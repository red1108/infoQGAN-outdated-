{
 "cells": [
  {
   "attachments": {},
   "cell_type": "markdown",
   "metadata": {},
   "source": [
    "## copula space를 직접 만들어보자"
   ]
  },
  {
   "cell_type": "code",
   "execution_count": null,
   "metadata": {},
   "outputs": [],
   "source": [
    "import numpy as np\n",
    "import matplotlib.pyplot as plt\n",
    "\n",
    "# 첫 번째 랜덤 분포 생성 (정규 분포)\n",
    "mean1 = 0\n",
    "std1 = 1\n",
    "size = 1000\n",
    "x = np.random.normal(mean1, std1, size)\n",
    "\n",
    "# 두 번째 랜덤 분포 생성 (베타 분포)\n",
    "alpha2 = 2\n",
    "beta2 = 5\n",
    "y = np.random.beta(alpha2, beta2, size)\n",
    "\n",
    "# 산점도 그리기\n",
    "plt.figure(figsize=(8, 6))\n",
    "plt.scatter(x, y, alpha=0.5)\n",
    "plt.title('Scatter Plot of Two Random Distributions')\n",
    "plt.xlabel('X')\n",
    "plt.ylabel('Y')\n",
    "plt.grid(True)\n",
    "plt.show()"
   ]
  },
  {
   "cell_type": "code",
   "execution_count": null,
   "metadata": {},
   "outputs": [],
   "source": [
    "import numpy as np\n",
    "import matplotlib.pyplot as plt\n",
    "\n",
    "# 랜덤 시드 설정 (재현성을 위해)\n",
    "np.random.seed(0)\n",
    "\n",
    "# 데이터 개수\n",
    "size = 1000\n",
    "\n",
    "# 상관관계 행렬\n",
    "correlation = 0\n",
    "cov_matrix = np.array([[1, correlation], [correlation, 1]])\n",
    "\n",
    "# 다변량 정규 분포에서 데이터 생성\n",
    "data = np.random.multivariate_normal(mean=[0, 0], cov=cov_matrix, size=size)\n",
    "x = data[:, 0]\n",
    "y = data[:, 1]\n",
    "\n",
    "# 산점도 그리기\n",
    "plt.figure(figsize=(8, 6))\n",
    "plt.scatter(x, y, alpha=0.5)\n",
    "plt.title(f'Scatter Plot with Correlation {correlation}')\n",
    "plt.xlabel('X')\n",
    "plt.ylabel('Y')\n",
    "plt.grid(True)\n",
    "plt.show()\n"
   ]
  },
  {
   "cell_type": "code",
   "execution_count": null,
   "metadata": {},
   "outputs": [],
   "source": [
    "!pip install yfinance"
   ]
  },
  {
   "cell_type": "code",
   "execution_count": null,
   "metadata": {},
   "outputs": [],
   "source": [
    "import yfinance as yf\n",
    "import datetime\n",
    "\n",
    "# 시작 날짜와 종료 날짜 설정\n",
    "start_date = datetime.datetime(2010, 1, 1)\n",
    "end_date = datetime.datetime(2017, 12, 31)\n",
    "\n",
    "# Apple 주식 데이터 받아오기\n",
    "apple = yf.Ticker(\"AAPL\")\n",
    "apple_data = apple.history(start=start_date, end=end_date, interval=\"1d\")\n",
    "apple_price_return = apple_data['Close'].pct_change()\n",
    "\n",
    "# Microsoft 주식 데이터 받아오기\n",
    "microsoft = yf.Ticker(\"MSFT\")\n",
    "microsoft_data = microsoft.history(start=start_date, end=end_date, interval=\"1d\")\n",
    "microsoft_price_return = microsoft_data['Close'].pct_change()\n",
    "\n",
    "# 결과 확인\n",
    "print(\"Apple Price Returns:\")\n",
    "print(apple_price_return)\n",
    "\n",
    "print(\"\\nMicrosoft Price Returns:\")\n",
    "print(microsoft_price_return)"
   ]
  },
  {
   "cell_type": "code",
   "execution_count": null,
   "metadata": {},
   "outputs": [],
   "source": [
    "apple_data"
   ]
  },
  {
   "cell_type": "code",
   "execution_count": null,
   "metadata": {},
   "outputs": [],
   "source": [
    "import yfinance as yf\n",
    "import datetime\n",
    "import matplotlib.pyplot as plt\n",
    "\n",
    "# 시작 날짜와 종료 날짜 설정\n",
    "start_date = datetime.datetime(2010, 1, 1)\n",
    "end_date = datetime.datetime(2017, 12, 31)\n",
    "\n",
    "# Apple 주식 데이터 받아오기\n",
    "apple = yf.Ticker(\"AAPL\")\n",
    "apple_data = apple.history(start=start_date, end=end_date, interval=\"1d\")\n",
    "\n",
    "# Microsoft 주식 데이터 받아오기\n",
    "microsoft = yf.Ticker(\"MSFT\")\n",
    "microsoft_data = microsoft.history(start=start_date, end=end_date, interval=\"1d\")\n",
    "\n",
    "# 그래프 그리기\n",
    "plt.figure(figsize=(10, 6))\n",
    "plt.plot(apple_data.index, apple_data['Close'], label='Apple')\n",
    "plt.plot(microsoft_data.index, microsoft_data['Close'], label='Microsoft')\n",
    "plt.title('Stock Prices of Apple and Microsoft')\n",
    "plt.xlabel('Date')\n",
    "plt.ylabel('Stock Price')\n",
    "plt.legend()\n",
    "plt.grid(True)\n",
    "plt.show()\n"
   ]
  },
  {
   "cell_type": "code",
   "execution_count": null,
   "metadata": {},
   "outputs": [],
   "source": [
    "print(\"Apple Price Returns:\", apple_price_return.shape)\n",
    "print(\"\\nMicrosoft Price Returns:\", microsoft_price_return.shape)"
   ]
  },
  {
   "cell_type": "code",
   "execution_count": null,
   "metadata": {},
   "outputs": [],
   "source": [
    "x = apple_price_return.values\n",
    "y = microsoft_price_return.values\n",
    "\n",
    "# 산점도 그리기\n",
    "plt.figure(figsize=(8, 6))\n",
    "plt.scatter(x, y, alpha=0.5)\n",
    "plt.title(f'Scatter Plot with Correlation {correlation}')\n",
    "plt.xlabel('X')\n",
    "plt.ylabel('Y')\n",
    "plt.grid(True)\n",
    "plt.show()"
   ]
  },
  {
   "cell_type": "code",
   "execution_count": null,
   "metadata": {},
   "outputs": [],
   "source": [
    "xy = [(x[i], y[i]) for i in range(len(x))]\n",
    "copula_x = []\n",
    "copula_y = []\n",
    "for i in range(len(x)):\n",
    "    u1 = sum(t[0] <= x[i] for t in xy)\n",
    "    u2 = sum(t[1] <= y[i] for t in xy)\n",
    "    copula_x.append(u1/len(x))\n",
    "    copula_y.append(u2/len(y))\n",
    "\n",
    "\n",
    "plt.scatter(copula_x, copula_y, s=20)\n",
    "plt.xlim(0, 1)\n",
    "plt.ylim(0, 1)\n",
    "plt.title('Copula space plot')"
   ]
  },
  {
   "cell_type": "code",
   "execution_count": null,
   "metadata": {},
   "outputs": [],
   "source": []
  }
 ],
 "metadata": {
  "kernelspec": {
   "display_name": "pennylane",
   "language": "python",
   "name": "python3"
  },
  "language_info": {
   "codemirror_mode": {
    "name": "ipython",
    "version": 3
   },
   "file_extension": ".py",
   "mimetype": "text/x-python",
   "name": "python",
   "nbconvert_exporter": "python",
   "pygments_lexer": "ipython3",
   "version": "3.10.9"
  },
  "orig_nbformat": 4
 },
 "nbformat": 4,
 "nbformat_minor": 2
}
